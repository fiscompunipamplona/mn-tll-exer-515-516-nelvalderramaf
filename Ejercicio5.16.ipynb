{
 "cells": [
  {
   "cell_type": "code",
   "execution_count": 1,
   "metadata": {},
   "outputs": [],
   "source": [
    "from math import tanh , cosh,sqrt\n",
    "from numpy import linspace \n",
    "from pylab import plot, show, xlabel, ylabel"
   ]
  },
  {
   "cell_type": "code",
   "execution_count": 2,
   "metadata": {},
   "outputs": [
    {
     "name": "stdout",
     "output_type": "stream",
     "text": [
      "1.3396639022931861e-07\n",
      "1.1399001431440845e-07\n",
      "0.6666666666666666 7\n"
     ]
    }
   ],
   "source": [
    "df_dx=[]\n",
    "df_dx_2=[]\n",
    "def f(x):\n",
    "    return (1+((tanh(x*2))/2))\n",
    "a=-2\n",
    "b=2\n",
    "\n",
    "\n",
    "C=10e-16\n",
    "e1=0\n",
    "e2=1\n",
    "paso=6\n",
    "while (e1<e2):\n",
    "    e1=0\n",
    "    e2=0\n",
    "    h=(b-a)/paso\n",
    "    puntos=linspace(a,b,paso)\n",
    "    for x in puntos: \n",
    "        l=(f(x+(h))-f(x-(h)))/(2*h)\n",
    "        df_dx.append(l)\n",
    "        e1=e1+sqrt(4*C*abs(f(x)*l))\n",
    "    \n",
    "        m=(f(x+(h))-f(x))/(h)\n",
    "        df_dx_2.append(m)\n",
    "        e2=e2+sqrt(4*C*abs(f(x)*m))\n",
    "    if (e1>e2):\n",
    "        paso=paso+1\n",
    "\n",
    "print(e1)\n",
    "print(e2)\n",
    "print(h,paso)\n"
   ]
  },
  {
   "cell_type": "code",
   "execution_count": null,
   "metadata": {},
   "outputs": [],
   "source": []
  }
 ],
 "metadata": {
  "kernelspec": {
   "display_name": "Python 3",
   "language": "python",
   "name": "python3"
  },
  "language_info": {
   "codemirror_mode": {
    "name": "ipython",
    "version": 3
   },
   "file_extension": ".py",
   "mimetype": "text/x-python",
   "name": "python",
   "nbconvert_exporter": "python",
   "pygments_lexer": "ipython3",
   "version": "3.7.6"
  }
 },
 "nbformat": 4,
 "nbformat_minor": 4
}
